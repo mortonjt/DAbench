{
 "cells": [
  {
   "cell_type": "markdown",
   "metadata": {},
   "source": [
    "Here, we will compare the multinomial regression to ANCOM and ALDEx2\n"
   ]
  },
  {
   "cell_type": "code",
   "execution_count": 1,
   "metadata": {},
   "outputs": [],
   "source": [
    "import os\n",
    "import shutil\n",
    "import subprocess\n",
    "import numpy as np\n",
    "import pandas as pd\n",
    "from biom.util import biom_open\n",
    "from generators import (\n",
    "    random_block_table\n",
    ")\n",
    "from skbio.stats.composition import closure, ancom, clr, clr_inv\n",
    "from sklearn.utils import check_random_state\n",
    "\n",
    "from sim import chain_interactions\n",
    "from scipy.stats import ttest_ind\n",
    "import matplotlib.pyplot as plt\n",
    "import seaborn as sns\n",
    "\n",
    "%matplotlib inline"
   ]
  },
  {
   "cell_type": "markdown",
   "metadata": {},
   "source": [
    "Benchmark 1 : test how differential abundance methods change as the total abundance changes"
   ]
  },
  {
   "cell_type": "code",
   "execution_count": 14,
   "metadata": {},
   "outputs": [],
   "source": [
    "num_samples = 100\n",
    "reps = 50\n",
    "n_species = 200\n",
    "np.random.seed(2)\n",
    "for mean in [-3, -1, 0, 1, -3]:\n",
    "    res = random_block_table(reps, n_species,\n",
    "                             species_mean=mean,\n",
    "                             species_var=1, \n",
    "                             microbe_kappa=0.7,\n",
    "                             microbe_tau=0.7,\n",
    "                             library_size=10000,\n",
    "                             microbe_total=100000,\n",
    "                             effect_size=1)\n",
    "    abs_table, rel_table, metadata, ground_truth = res\n",
    "    data_dir = '../data/6-differential/effect_size'\n",
    "    ground_truth.to_csv(os.path.join(data_dir, f'ground_truth_mean_{mean}.txt'), sep='\\t')\n",
    "    metadata.to_csv(os.path.join(data_dir, f'metadata_mean_{mean}.txt'), sep='\\t')\n",
    "    abs_table.to_csv(os.path.join(data_dir, f'abs_table_mean_{mean}.txt'), sep='\\t')\n",
    "    rel_table.to_csv(os.path.join(data_dir, f'rel_table_mean_{mean}.txt'), sep='\\t')"
   ]
  },
  {
   "cell_type": "code",
   "execution_count": null,
   "metadata": {},
   "outputs": [],
   "source": []
  }
 ],
 "metadata": {
  "kernelspec": {
   "display_name": "Python 3 (ipykernel)",
   "language": "python",
   "name": "python3"
  },
  "language_info": {
   "codemirror_mode": {
    "name": "ipython",
    "version": 3
   },
   "file_extension": ".py",
   "mimetype": "text/x-python",
   "name": "python",
   "nbconvert_exporter": "python",
   "pygments_lexer": "ipython3",
   "version": "3.11.3"
  }
 },
 "nbformat": 4,
 "nbformat_minor": 2
}
